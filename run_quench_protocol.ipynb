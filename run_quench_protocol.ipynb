{
 "cells": [
  {
   "cell_type": "markdown",
   "metadata": {},
   "source": [
    "# SYK2 quench protocol for $n$ qubits"
   ]
  },
  {
   "cell_type": "markdown",
   "metadata": {},
   "source": [
    "initial state:"
   ]
  },
  {
   "cell_type": "markdown",
   "metadata": {},
   "source": [
    "$| gs \\rangle = \\otimes_{j=1}^n \\dfrac{1}{\\sqrt{2}}\\begin{pmatrix} -i \\\\ 1 \\end{pmatrix}_j$"
   ]
  },
  {
   "cell_type": "markdown",
   "metadata": {},
   "source": [
    "initial Hamiltonian:"
   ]
  },
  {
   "cell_type": "markdown",
   "metadata": {},
   "source": [
    "$H_0 = \\sum\\limits_{j=1}^n \\dfrac{\\omega_j}{2} \\sigma^y_j$"
   ]
  },
  {
   "cell_type": "markdown",
   "metadata": {},
   "source": [
    "quenched Hamiltonian:"
   ]
  },
  {
   "cell_type": "markdown",
   "metadata": {},
   "source": [
    "$H = H_0 + g(t)V =\\sum\\limits_{j=1}^n \\dfrac{\\omega_j}{2} \\sigma^y_j + g(t)\\left( \\sum\\limits_{j_1 > j_2}^n J_{j_1 j_2} c_{j_1}^\\dagger c_{j_2} +  h.c. \\right) \\\\ g(t) = \\theta(t) - \\theta(t-\\tau) \\\\ \\overline{|J_{ij}|^2} = J^2/n \\\\ c_j^\\dagger = \\sigma^+_j \\left( \\prod\\limits_{l=1}^{j-1}\\sigma^z_l\\right), \\quad c_j = \\left( \\prod\\limits_{l=1}^{j-1}\\sigma^z_l \\right) \\sigma^-_j$"
   ]
  },
  {
   "cell_type": "markdown",
   "metadata": {},
   "source": [
    "excitations occupation probabilities:"
   ]
  },
  {
   "cell_type": "markdown",
   "metadata": {},
   "source": [
    "$p_k(t \\geq \\tau) = p_k(\\tau) = \\sum\\limits_{i=1}^{\\dfrac{n!}{k!(n-k)!}} |\\langle k i | \\psi(\\tau) \\rangle|^2 = \\sum\\limits_{i=1}^{\\dfrac{n!}{k!(n-k)!}} |\\langle k i | \\exp(- i H \\tau) | gs \\rangle|^2$"
   ]
  },
  {
   "cell_type": "markdown",
   "metadata": {},
   "source": [
    "$ | k i \\rangle$ -- eigenstates of $H_0$ in spectral representation, where $k$ is the number of excitations and $i$ accounts for the states with the same $k$"
   ]
  },
  {
   "cell_type": "markdown",
   "metadata": {},
   "source": [
    "total spin:"
   ]
  },
  {
   "cell_type": "markdown",
   "metadata": {},
   "source": [
    "$S = - \\dfrac{n}{2} + \\sum\\limits_{k=0}^n k p_k(\\tau)$"
   ]
  },
  {
   "cell_type": "markdown",
   "metadata": {},
   "source": [
    "total spin averaged over realizations:"
   ]
  },
  {
   "cell_type": "markdown",
   "metadata": {},
   "source": [
    "$\\langle S \\rangle =  - \\dfrac{n}{2} + \\dfrac{1}{n_r} \\sum\\limits_{\\alpha=1}^{n_r} \\sum\\limits_{k=0}^n k p^{(\\alpha)}_k(\\tau) $"
   ]
  },
  {
   "cell_type": "markdown",
   "metadata": {},
   "source": [
    "$\\alpha$ -- replica index for a given realization of coupling constants $\\lbrace J_{j_1 j_2} \\rbrace$"
   ]
  },
  {
   "cell_type": "markdown",
   "metadata": {},
   "source": [
    "$n_r$ -- number of realizatons"
   ]
  },
  {
   "cell_type": "markdown",
   "metadata": {},
   "source": [
    "total spin fluctuations:"
   ]
  },
  {
   "cell_type": "markdown",
   "metadata": {},
   "source": [
    "${\\it Var} S = \\langle S^2 \\rangle - \\langle S \\rangle^2 = \\dfrac{1}{n_r} \\sum\\limits_{\\alpha=1}^{n_r} \\sum\\limits_{k=0}^n k^2 p^{(\\alpha)}_k(\\tau) - \\left( \\dfrac{1}{n_r} \\sum\\limits_{\\alpha=1}^{n_r} \\sum\\limits_{k=0}^n k p^{(\\alpha)}_k(\\tau) \\right)^2$"
   ]
  },
  {
   "cell_type": "markdown",
   "metadata": {},
   "source": [
    "# Execute"
   ]
  },
  {
   "cell_type": "code",
   "execution_count": 1,
   "metadata": {},
   "outputs": [],
   "source": [
    "%run \"C:\\Users\\Nick\\Projects\\thermalization_sim\\new\\SYK2_thermalizer.py\" "
   ]
  },
  {
   "cell_type": "code",
   "execution_count": 10,
   "metadata": {},
   "outputs": [],
   "source": [
    "# the parameters: \n",
    "# num -- number of qubits\n",
    "# Jc -- square root of variance of random couplings J_{ij}\n",
    "# nr -- number of realizations\n",
    "# omega_min -- minimum frequency of the qubit\n",
    "# omega_max -- maximum frequency of the qubit\n",
    "# t_min -- mininum time\n",
    "# t_max -- maximum time\n",
    "# nt -- number of time points\n",
    "\n",
    "SYK2(num = 4, Jc = 1, nr = 100, omega_min = 0.48, omega_max = 0.72, t_min = 0, t_max = 20, nt = 401)\n",
    "# we print the number of the evaluated realization"
   ]
  },
  {
   "cell_type": "code",
   "execution_count": null,
   "metadata": {},
   "outputs": [],
   "source": []
  }
 ],
 "metadata": {
  "kernelspec": {
   "display_name": "Python 3",
   "language": "python",
   "name": "python3"
  },
  "language_info": {
   "codemirror_mode": {
    "name": "ipython",
    "version": 3
   },
   "file_extension": ".py",
   "mimetype": "text/x-python",
   "name": "python",
   "nbconvert_exporter": "python",
   "pygments_lexer": "ipython3",
   "version": "3.7.4"
  }
 },
 "nbformat": 4,
 "nbformat_minor": 2
}
