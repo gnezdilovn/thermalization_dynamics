{
 "cells": [
  {
   "cell_type": "markdown",
   "metadata": {},
   "source": [
    "# SYK2 quench protocol"
   ]
  },
  {
   "cell_type": "markdown",
   "metadata": {},
   "source": [
    "$| gs \\rangle = \\otimes_{j=1}^n \\dfrac{1}{\\sqrt{2}}\\begin{pmatrix} -i \\\\ 1 \\end{pmatrix}_j$"
   ]
  },
  {
   "cell_type": "markdown",
   "metadata": {},
   "source": [
    "$H_0 = \\dfrac{\\omega}{2}\\sum\\limits_{j=1}^n \\sigma^y_j = -\\dfrac{n\\omega}{2} + \\omega \\sum\\limits_{k=0}^n  k \\sum\\limits_{i=1}^{\\frac{n!}{k!(n-k)!}}  | k i \\rangle  \\langle k i |$"
   ]
  },
  {
   "cell_type": "markdown",
   "metadata": {},
   "source": [
    "$H = H_0 + g(t) V =\\dfrac{\\omega}{2}\\sum\\limits_{j=1}^n \\sigma^y_j + g (t) \\left( \\sum\\limits_{j_1 > j_2}^n J_{j_1 j_2} c_{j_1}^\\dagger c_{j_2} +  h.c. \\right)$"
   ]
  },
  {
   "cell_type": "markdown",
   "metadata": {},
   "source": [
    "$g(t) = \\theta(t) - \\theta(t-\\tau)$"
   ]
  },
  {
   "cell_type": "markdown",
   "metadata": {},
   "source": [
    "$\\overline{|J_{ij}|^2} = J^2/n$"
   ]
  },
  {
   "cell_type": "markdown",
   "metadata": {},
   "source": [
    "$c_j^\\dagger = \\sigma^+_j \\left( \\prod\\limits_{l=1}^{j-1}\\sigma^z_l\\right), \\quad c_j = \\left( \\prod\\limits_{l=1}^{j-1}\\sigma^z_l \\right) \\sigma^-_j$"
   ]
  },
  {
   "cell_type": "markdown",
   "metadata": {},
   "source": [
    "$p_k(t\\geq \\tau) = p_k(\\tau) = \\sum\\limits_{i=1}^{\\frac{n!}{k!(n-k)!}} |\\langle k i | \\psi(\\tau) \\rangle|^2 = \\sum\\limits_{i=1}^{\\frac{n!}{k!(n-k)!}} |\\langle k i | e^{- i H \\tau} | gs \\rangle|^2$"
   ]
  },
  {
   "cell_type": "markdown",
   "metadata": {},
   "source": [
    "# Execute"
   ]
  },
  {
   "cell_type": "code",
   "execution_count": 2,
   "metadata": {},
   "outputs": [],
   "source": [
    "%run \"C:\\Users\\Nick\\Projects\\thermalization_sim\\SYK2_dynamics.py\""
   ]
  },
  {
   "cell_type": "code",
   "execution_count": null,
   "metadata": {},
   "outputs": [
    {
     "name": "stdout",
     "output_type": "stream",
     "text": [
      "0\n",
      "1\n",
      "2\n",
      "3\n",
      "4\n",
      "5\n",
      "6\n",
      "7\n",
      "8\n",
      "9\n",
      "10\n",
      "11\n",
      "12\n",
      "13\n",
      "14\n",
      "15\n",
      "16\n",
      "17\n",
      "18\n",
      "19\n",
      "20\n",
      "21\n",
      "22\n",
      "23\n",
      "24\n",
      "25\n",
      "26\n",
      "27\n",
      "28\n",
      "29\n",
      "30\n",
      "31\n",
      "32\n",
      "33\n",
      "34\n",
      "35\n",
      "36\n",
      "37\n",
      "38\n",
      "39\n",
      "40\n",
      "41\n",
      "42\n",
      "43\n",
      "44\n",
      "45\n",
      "46\n",
      "47\n",
      "48\n",
      "49\n",
      "50\n",
      "51\n",
      "52\n",
      "53\n",
      "54\n",
      "55\n",
      "56\n",
      "57\n",
      "58\n",
      "59\n",
      "60\n",
      "61\n",
      "62\n",
      "63\n",
      "64\n",
      "65\n",
      "66\n",
      "67\n",
      "68\n",
      "69\n",
      "70\n",
      "71\n",
      "72\n",
      "73\n",
      "74\n",
      "75\n",
      "76\n",
      "77\n",
      "78\n",
      "79\n",
      "80\n",
      "81\n",
      "82\n",
      "83\n",
      "84\n",
      "85\n",
      "86\n",
      "87\n",
      "88\n",
      "89\n",
      "90\n",
      "91\n"
     ]
    }
   ],
   "source": [
    "# the parameters: \n",
    "# num -- number of qubits\n",
    "# Jc -- square root of variance of random couplings J_{ij}\n",
    "# nr -- number of realizations\n",
    "# omega -- initial frequency of the qubit\n",
    "# t_min -- mininum time\n",
    "# t_max -- maximum time\n",
    "# nt -- number of time points\n",
    "\n",
    "SYK2(num = 4, Jc = 1, nr = 100, omega = 0.4, t_min = 0, t_max = 20, nt = 401)\n",
    "# we print the number of the evaluated realization"
   ]
  },
  {
   "cell_type": "code",
   "execution_count": null,
   "metadata": {},
   "outputs": [],
   "source": []
  }
 ],
 "metadata": {
  "kernelspec": {
   "display_name": "Python 3",
   "language": "python",
   "name": "python3"
  },
  "language_info": {
   "codemirror_mode": {
    "name": "ipython",
    "version": 3
   },
   "file_extension": ".py",
   "mimetype": "text/x-python",
   "name": "python",
   "nbconvert_exporter": "python",
   "pygments_lexer": "ipython3",
   "version": "3.7.4"
  }
 },
 "nbformat": 4,
 "nbformat_minor": 2
}
