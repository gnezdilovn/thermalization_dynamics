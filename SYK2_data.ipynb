{
 "cells": [
  {
   "cell_type": "markdown",
   "metadata": {},
   "source": [
    "# SYK2 quench protocol"
   ]
  },
  {
   "cell_type": "markdown",
   "metadata": {},
   "source": [
    "$| gs \\rangle = \\otimes_{j=1}^n \\dfrac{1}{\\sqrt{2}}\\begin{pmatrix} -i \\\\ 1 \\end{pmatrix}_j$"
   ]
  },
  {
   "cell_type": "markdown",
   "metadata": {},
   "source": [
    "$H_0 = \\dfrac{\\omega}{2}\\sum\\limits_{j=1}^n \\sigma^y_j = -\\dfrac{n\\omega}{2} + \\omega \\sum\\limits_{k=0}^n  k \\sum\\limits_{i=1}^{\\frac{n!}{k!(n-k)!}}  | k i \\rangle  \\langle k i |$"
   ]
  },
  {
   "cell_type": "markdown",
   "metadata": {},
   "source": [
    "$H = H_0 + g(t) V =\\dfrac{\\omega}{2}\\sum\\limits_{j=1}^n \\sigma^y_j + g (t) \\left( \\sum\\limits_{j_1 > j_2}^n J_{j_1 j_2} c_{j_1}^\\dagger c_{j_2} +  h.c. \\right)$"
   ]
  },
  {
   "cell_type": "markdown",
   "metadata": {},
   "source": [
    "$g(t) = \\theta(t) - \\theta(t-\\tau)$"
   ]
  },
  {
   "cell_type": "markdown",
   "metadata": {},
   "source": [
    "$\\overline{|J_{ij}|^2} = J^2/n$"
   ]
  },
  {
   "cell_type": "markdown",
   "metadata": {},
   "source": [
    "$c_j^\\dagger = \\sigma^+_j \\left( \\prod\\limits_{l=1}^{j-1}\\sigma^z_l\\right), \\quad c_j = \\left( \\prod\\limits_{l=1}^{j-1}\\sigma^z_l \\right) \\sigma^-_j$"
   ]
  },
  {
   "cell_type": "markdown",
   "metadata": {},
   "source": [
    "$p_k(t\\geq \\tau) = p_k(\\tau) = \\sum\\limits_{i=1}^{\\frac{n!}{k!(n-k)!}} |\\langle k i | \\psi(\\tau) \\rangle|^2 = \\sum\\limits_{i=1}^{\\frac{n!}{k!(n-k)!}} |\\langle k i | e^{- i H \\tau} | gs \\rangle|^2$"
   ]
  },
  {
   "cell_type": "markdown",
   "metadata": {},
   "source": [
    "# Execute"
   ]
  },
  {
   "cell_type": "code",
   "execution_count": 1,
   "metadata": {},
   "outputs": [],
   "source": [
    "%run \"C:\\Users\\Nick\\Projects\\thermalization_sim\\SYK2_dynamics.py\""
   ]
  },
  {
   "cell_type": "code",
   "execution_count": 4,
   "metadata": {},
   "outputs": [],
   "source": [
    "# the parameters: \n",
    "# num -- number of qubits\n",
    "# Jc -- square root of the variance of random couplings J_{ij}\n",
    "# nr -- number of realizations\n",
    "# omega -- initial frequency of the qubit\n",
    "# t_min -- mininum time\n",
    "# t_max -- maximum time\n",
    "# nt -- number of time points\n",
    "\n",
    "SYK2(num = 7, Jc = 1, nr = 100, omega = 0.2, t_min = 0, t_max = 20, nt = 401)\n",
    "# we print the number of the evaluated realization"
   ]
  },
  {
   "cell_type": "code",
   "execution_count": null,
   "metadata": {},
   "outputs": [],
   "source": []
  }
 ],
 "metadata": {
  "kernelspec": {
   "display_name": "Python 3",
   "language": "python",
   "name": "python3"
  },
  "language_info": {
   "codemirror_mode": {
    "name": "ipython",
    "version": 3
   },
   "file_extension": ".py",
   "mimetype": "text/x-python",
   "name": "python",
   "nbconvert_exporter": "python",
   "pygments_lexer": "ipython3",
   "version": "3.7.4"
  }
 },
 "nbformat": 4,
 "nbformat_minor": 2
}
